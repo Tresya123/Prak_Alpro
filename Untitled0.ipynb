{
  "nbformat": 4,
  "nbformat_minor": 0,
  "metadata": {
    "colab": {
      "provenance": []
    },
    "kernelspec": {
      "name": "python3",
      "display_name": "Python 3"
    },
    "language_info": {
      "name": "python"
    }
  },
  "cells": [
    {
      "cell_type": "code",
      "source": [
        "def cek_angka(x, y, z):\n",
        "    if x != y and x != z and y != z:\n",
        "        if x + y == z or x + z == y or y + z == x:\n",
        "            return True\n",
        "    return False\n"
      ],
      "metadata": {
        "id": "t8qaeQ30CRKW"
      },
      "execution_count": null,
      "outputs": []
    },
    {
      "cell_type": "code",
      "source": [
        "def cek_digit_belakang(digit1, digit2, digit3):\n",
        "    # Modulo digit paling kanan\n",
        "    digit_1 = digit1 % 10\n",
        "    digit_2 = digit2 % 10\n",
        "    digit_3 = digit3 % 10\n",
        "\n",
        "    # Pengecekkan digit yang sama\n",
        "    if digit_1 == digit_2 or digit_1 == digit_3 or digit_2 == digit_3:\n",
        "        return True\n",
        "    else:\n",
        "        return False\n",
        "\n",
        "# input pengguna\n",
        "input_1 = int(input(\"Masukkan bilangan pertama: \"))\n",
        "input_2 = int(input(\"Masukkan bilangan kedua  : \"))\n",
        "input_3 = int(input(\"Masukkan bilangan ketiga : \"))\n",
        "\n",
        "# Memanggil fungsi\n",
        "print(cek_digit_belakang(input_1, input_2, input_3))\n",
        "\n"
      ],
      "metadata": {
        "id": "4iMYNzYhCaWb"
      },
      "execution_count": null,
      "outputs": []
    },
    {
      "cell_type": "code",
      "source": [
        "celcius_to_fahrenheit = lambda c: (9/5) * c + 32\n",
        "\n",
        "# Fungsi konversi suhu dari Celcius ke Reamur\n",
        "celcius_to_reamur = lambda c: 0.8 * c\n",
        "\n",
        "c = int(input(\"Masukan suhu dalam Celsius = \"))\n",
        "\n",
        "print(\"Suhu dalam Fahrenheit : \", celcius_to_fahrenheit(c))\n",
        "print(\"Suhu dalam Reamur     : \", celcius_to_reamur(c) )\n"
      ],
      "metadata": {
        "id": "vEPPeDU5CgZB"
      },
      "execution_count": null,
      "outputs": []
    }
  ]
}