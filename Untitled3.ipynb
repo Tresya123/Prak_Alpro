{
  "nbformat": 4,
  "nbformat_minor": 0,
  "metadata": {
    "colab": {
      "provenance": []
    },
    "kernelspec": {
      "name": "python3",
      "display_name": "Python 3"
    },
    "language_info": {
      "name": "python"
    }
  },
  "cells": [
    {
      "cell_type": "code",
      "execution_count": null,
      "metadata": {
        "id": "oT0Hoo_otKOe"
      },
      "outputs": [],
      "source": [
        "def adalah_anagram(kata1, kata2):\n",
        "    # Menghapus spasi dan mengonversi huruf menjadi huruf kecil\n",
        "    kata1 = kata1.replace(\" \", \"\").lower()\n",
        "    kata2 = kata2.replace(\" \", \"\").lower()\n",
        "\n",
        "    # Mengonversi kata menjadi list karakter\n",
        "    list_kata1 = list(kata1)\n",
        "    list_kata2 = list(kata2)\n",
        "\n",
        "    # Mengurutkan karakter dalam list\n",
        "    list_kata1.sort()\n",
        "    list_kata2.sort()\n",
        "\n",
        "    # Membandingkan kedua list\n",
        "    if list_kata1 == list_kata2:\n",
        "        return True\n",
        "    else:\n",
        "        return False\n",
        "\n",
        "# Input kata-kata\n",
        "kata1 = input(\"Masukkan kata pertama: \")\n",
        "kata2 = input(\"Masukkan kata kedua: \")\n",
        "\n",
        "# Memeriksa apakah kata-kata tersebut adalah anagram\n",
        "if adalah_anagram(kata1, kata2):\n",
        "    print(f\"{kata1} dan {kata2} adalah anagram.\")\n",
        "else:\n",
        "    print(f\"{kata1} dan {kata2} bukan anagram.\")\n"
      ]
    },
    {
      "cell_type": "code",
      "source": [
        "def hitung_frekuensi_kata(kalimat, kata):\n",
        "    # Mengonversi kalimat menjadi huruf kecil agar tidak case-sensitive\n",
        "    kalimat = kalimat.lower()\n",
        "    # Menghitung frekuensi kemunculan kata\n",
        "    frekuensi = kalimat.count(kata.lower())\n",
        "    return frekuensi\n",
        "\n",
        "kalimat = \"Saya mau makan. Makan itu wajib. Mau siang atau malam saya wajib makan\"\n",
        "kata_yang_dicari = \"makan\"\n",
        "\n",
        "# Memanggil fungsi hitung_frekuensi_kata dan mencetak hasilnya\n",
        "frekuensi = hitung_frekuensi_kata(kalimat, kata_yang_dicari)\n",
        "print(f\"{kata_yang_dicari} ada {frekuensi} buah\")\n"
      ],
      "metadata": {
        "id": "pFq0cMnftR2l"
      },
      "execution_count": null,
      "outputs": []
    },
    {
      "cell_type": "code",
      "source": [
        "def hapus_spasi_berlebih(kalimat):\n",
        "    # Memisahkan kata-kata dalam kalimat\n",
        "    kata_kunci = kalimat.split()\n",
        "    # Menggabungkan kembali kata-kata tersebut dengan satu spasi di antara setiap kata\n",
        "    kalimat_baru = ' '.join(kata_kunci)\n",
        "    return kalimat_baru\n",
        "\n",
        "kalimat = \"saya tidak suka      memancing ikan    \"\n",
        "kalimat_tanpa_spasi_lebih = hapus_spasi_berlebih(kalimat)\n",
        "print(\"Kalimat tanpa spasi berlebih:\", kalimat_tanpa_spasi_lebih)\n"
      ],
      "metadata": {
        "id": "i9owVcSKtZaw"
      },
      "execution_count": null,
      "outputs": []
    },
    {
      "cell_type": "code",
      "source": [
        "def cari_kata_terpendek_dan_terpanjang(kalimat):\n",
        "    # Memisahkan kata-kata dalam kalimat\n",
        "    kata_kunci = kalimat.split()\n",
        "    # Menginisialisasi kata terpendek dan terpanjang dengan kata pertama\n",
        "    kata_terpendek = kata_kunci[0]\n",
        "    kata_terpanjang = kata_kunci[0]\n",
        "\n",
        "    # Memeriksa setiap kata dalam kalimat\n",
        "    for kata in kata_kunci:\n",
        "        # Membandingkan panjang kata dengan kata terpendek dan terpanjang yang diketahui sebelumnya\n",
        "        if len(kata) < len(kata_terpendek):\n",
        "            kata_terpendek = kata\n",
        "        elif len(kata) > len(kata_terpanjang):\n",
        "            kata_terpanjang = kata\n",
        "\n",
        "    return kata_terpendek, kata_terpanjang\n",
        "\n",
        "kalimat = input(\"Masukkan kalimat: \")\n",
        "terpendek, terpanjang = cari_kata_terpendek_dan_terpanjang(kalimat)\n",
        "print(\"Terpendek:\", terpendek)\n",
        "print(\"Terpanjang:\", terpanjang)\n"
      ],
      "metadata": {
        "id": "QWVkGWbStgZo"
      },
      "execution_count": null,
      "outputs": []
    }
  ]
}