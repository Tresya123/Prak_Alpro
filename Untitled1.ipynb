{
  "nbformat": 4,
  "nbformat_minor": 0,
  "metadata": {
    "colab": {
      "provenance": []
    },
    "kernelspec": {
      "name": "python3",
      "display_name": "Python 3"
    },
    "language_info": {
      "name": "python"
    }
  },
  "cells": [
    {
      "cell_type": "code",
      "execution_count": null,
      "metadata": {
        "id": "JVQ4HMZNru9U"
      },
      "outputs": [],
      "source": [
        "def ganjil(bawah, atas):\n",
        "    if bawah < atas:\n",
        "        return [i for i in range(bawah, atas + 1) if i % 2 != 0]\n",
        "    else:\n",
        "        return [i for i in range(atas, bawah + 1) if i % 2 != 0]\n",
        "\n",
        "def main():\n",
        "    bawah = int(input(\"Masukkan batas bawah: \"))\n",
        "    atas = int(input(\"Masukkan batas atas: \"))\n",
        "\n",
        "    hasil = ganjil(bawah, atas)\n",
        "    print(\"Deret bilangan ganjil antara\", bawah, \"dan\", atas, \"adalah:\")\n",
        "    print(hasil)\n",
        "\n",
        "if __name__ == \"__main__\":\n",
        "    main()"
      ]
    },
    {
      "cell_type": "code",
      "source": [
        "def perkalian(a, b):\n",
        "    hasil = 0\n",
        "    for _ in range(b):\n",
        "        hasil += a\n",
        "    return hasil\n",
        "\n",
        "def main():\n",
        "    a = int(input(\"Masukkan bilangan pertama: \"))\n",
        "    b = int(input(\"Masukkan bilangan kedua: \"))\n",
        "\n",
        "    hasil_perkalian = perkalian(a, b)\n",
        "    print(f\"{a} x {b} = \", end=\"\")\n",
        "\n",
        "    for i in range(b):\n",
        "        if i < b - 1:\n",
        "            print(f\"{a} + \", end=\"\")\n",
        "        else:\n",
        "            print(f\"{a}\", end=\"\")\n",
        "    print(f\" = {hasil_perkalian}\")\n",
        "\n",
        "if __name__ == \"__main__\":\n",
        "    main()"
      ],
      "metadata": {
        "id": "fse_m9wFrxj3"
      },
      "execution_count": null,
      "outputs": []
    },
    {
      "cell_type": "code",
      "source": [
        "def hitung_ips(jumlah_matkul):\n",
        "    total_sks = jumlah_matkul * 3\n",
        "    total_nilai = 0\n",
        "\n",
        "    for i in range(jumlah_matkul):\n",
        "        nilai = input(f\"Masukkan nilai mata kuliah ke-{i+1} (A/B/C/D): \").upper()\n",
        "\n",
        "        if nilai == 'A':\n",
        "            total_nilai += 4 * 3  # sks * bobot nilai\n",
        "        elif nilai == 'B':\n",
        "            total_nilai += 3 * 3\n",
        "        elif nilai == 'C':\n",
        "            total_nilai += 2 * 3\n",
        "        elif nilai == 'D':\n",
        "            total_nilai += 1 * 3\n",
        "        else:\n",
        "            print(\"Input tidak valid. Mohon masukkan nilai A, B, C, atau D.\")\n",
        "\n",
        "    ips = total_nilai / total_sks\n",
        "    return ips\n",
        "\n",
        "def main():\n",
        "    jumlah_matkul = int(input(\"Masukkan jumlah mata kuliah: \"))\n",
        "    ips = hitung_ips(jumlah_matkul)\n",
        "    print(\"Indeks Prestasi Semester (IPS) Anda adalah:\", ips)\n",
        "\n",
        "if __name__ == \"__main__\":\n",
        "    main()"
      ],
      "metadata": {
        "id": "nZVLYBkptVf_"
      },
      "execution_count": null,
      "outputs": []
    }
  ]
}