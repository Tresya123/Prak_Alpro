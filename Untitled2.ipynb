{
  "nbformat": 4,
  "nbformat_minor": 0,
  "metadata": {
    "colab": {
      "provenance": []
    },
    "kernelspec": {
      "name": "python3",
      "display_name": "Python 3"
    },
    "language_info": {
      "name": "python"
    }
  },
  "cells": [
    {
      "cell_type": "code",
      "execution_count": null,
      "metadata": {
        "id": "RpHrCwFmIDqd"
      },
      "outputs": [],
      "source": [
        "def cek_prima(angka):\n",
        "    if angka <= 1:\n",
        "        return False\n",
        "    elif angka <= 3:\n",
        "        return True\n",
        "    elif angka % 2 == 0 or angka % 3 == 0:\n",
        "        return False\n",
        "    i = 5\n",
        "    while i * i <= angka:\n",
        "        if angka % i == 0 or angka % (i + 2) == 0:\n",
        "            return False\n",
        "        i += 6\n",
        "    return True\n",
        "\n",
        "def cari_prima_terdekat_kurang_dari_n(n):\n",
        "    if n <= 2:\n",
        "        return None\n",
        "    for i in range(n - 1, 1, -1):\n",
        "        if cek_prima(i):\n",
        "            return i\n",
        "\n",
        "#input pengguna\n",
        "n = int(input(\"Masukkan bilangan bulat positif: \"))\n",
        "\n",
        "# Mencari bilangan prima terdekat yang kurang dari n\n",
        "prima_terdekat = cari_prima_terdekat_kurang_dari_n(n)\n",
        "\n",
        "if prima_terdekat:\n",
        "    print(f\"Maka bilangan prima terdekat < {n} adalah {prima_terdekat}\")\n",
        "else:\n",
        "    print(\"Tidak ada bilangan prima terdekat yang kurang dari\", n)"
      ]
    },
    {
      "cell_type": "code",
      "source": [
        "def hitung_faktorial(bilangan):\n",
        "    faktorial = 1\n",
        "    for i in range(2, bilangan + 1):\n",
        "        faktorial *= i\n",
        "    return faktorial\n",
        "\n",
        "def tampilkan_deret(n):\n",
        "    for i in range(n, 0, -1):\n",
        "        print(hitung_faktorial(i), end=' ')\n",
        "        for j in range(i, 0, -1):\n",
        "            print(j, end=' ')\n",
        "        print()\n",
        "\n",
        "n = int(input(\"Masukkan nilai n: \"))\n",
        "tampilkan_deret(n)"
      ],
      "metadata": {
        "id": "31yWfqFzIJ58"
      },
      "execution_count": null,
      "outputs": []
    },
    {
      "cell_type": "code",
      "source": [
        "def deret(tinggi, lebar):\n",
        "    for i in range(1, tinggi + 1):\n",
        "        for j in range(1, lebar + 1):\n",
        "            print((i - 1) * lebar + j, end=' ')\n",
        "        print()\n",
        "\n",
        "tinggi = int(input(\"Masukkan tinggi deret: \"))\n",
        "lebar = int(input(\"Masukkan lebar deret: \"))\n",
        "deret(tinggi, lebar)"
      ],
      "metadata": {
        "id": "Afz19zI_ITE9"
      },
      "execution_count": null,
      "outputs": []
    }
  ]
}